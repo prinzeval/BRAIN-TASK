{
 "cells": [
  {
   "cell_type": "code",
   "execution_count": 2,
   "metadata": {},
   "outputs": [
    {
     "name": "stdout",
     "output_type": "stream",
     "text": [
      "\n",
      "1. Add Task\n",
      "2. Remove Task\n",
      "3. View Tasks\n",
      "4. Exit\n",
      "\n",
      "1. Add Task\n",
      "2. Remove Task\n",
      "3. View Tasks\n",
      "4. Exit\n",
      "\n",
      "1. Add Task\n",
      "2. Remove Task\n",
      "3. View Tasks\n",
      "4. Exit\n",
      "\n",
      "1. Add Task\n",
      "2. Remove Task\n",
      "3. View Tasks\n",
      "4. Exit\n"
     ]
    }
   ],
   "source": [
    "import os\n",
    "\n",
    "TODO_FILE = \"todo.txt\"\n",
    "\n",
    "def load_tasks():\n",
    "    if os.path.exists(TODO_FILE):\n",
    "        with open(TODO_FILE, \"r\") as file:\n",
    "            return [line.strip() for line in file]\n",
    "    return []\n",
    "\n",
    "def save_tasks(tasks):\n",
    "    with open(TODO_FILE, \"w\") as file:\n",
    "        file.write(\"\\n\".join(tasks))\n",
    "\n",
    "def add_task(task):\n",
    "    tasks = load_tasks()\n",
    "    tasks.append(task)\n",
    "    save_tasks(tasks)\n",
    "\n",
    "def remove_task(task):\n",
    "    tasks = load_tasks()\n",
    "    if task in tasks:\n",
    "        tasks.remove(task)\n",
    "        save_tasks(tasks)\n",
    "\n",
    "def view_tasks():\n",
    "    tasks = load_tasks()\n",
    "    for i, task in enumerate(tasks, start=1):\n",
    "        print(f\"{i}. {task}\")\n",
    "\n",
    "def todo_app():\n",
    "    while True:\n",
    "        print(\"\\n1. Add Task\\n2. Remove Task\\n3. View Tasks\\n4. Exit\")\n",
    "        choice = input(\"Enter your choice: \")\n",
    "        if choice == '1':\n",
    "            task = input(\"Enter task to add: \")\n",
    "            add_task(task)\n",
    "        elif choice == '2':\n",
    "            task = input(\"Enter task to remove: \")\n",
    "            remove_task(task)\n",
    "        elif choice == '3':\n",
    "            view_tasks()\n",
    "        elif choice == '4':\n",
    "            break\n",
    "        else:\n",
    "            print(\"Invalid choice\")\n",
    "\n",
    "todo_app()"
   ]
  },
  {
   "cell_type": "code",
   "execution_count": 1,
   "metadata": {},
   "outputs": [
    {
     "name": "stdout",
     "output_type": "stream",
     "text": [
      "0.0035714285714285713\n"
     ]
    }
   ],
   "source": [
    "\n",
    "\n",
    "\n",
    "\n",
    "insert = int(input(\"Enter number of intergers : \"))\n",
    "number = []\n",
    "for i  in range(insert):\n",
    "    mynum = int(input(F'ENTER NUM{i+1} : '))\n",
    "    number.append(mynum)\n",
    "op = input(\"ENTER AN OPERTOR / * + - : \")\n",
    "\n",
    "if op == \"+\":\n",
    "    result  = 0\n",
    "elif op in  \"*/-\":\n",
    "    result = number[0]    \n",
    "\n",
    "if op == \"+\":\n",
    "    for num in number:\n",
    "     result += num\n",
    "elif op == \"*\":\n",
    "   for num in number[1:]:\n",
    "      result *= num   \n",
    "elif op == \"-\":\n",
    "   for num in number[1:]:\n",
    "      result -= num         \n",
    "elif op == \"/\":\n",
    "   for num in number[1:]:\n",
    "      result /= num   \n",
    "\n",
    "print(result)\n",
    "   \n",
    "\n",
    "\n",
    " \n",
    "\n",
    "    \n",
    "    \n"
   ]
  },
  {
   "cell_type": "code",
   "execution_count": 2,
   "metadata": {},
   "outputs": [
    {
     "name": "stdout",
     "output_type": "stream",
     "text": [
      "11\n"
     ]
    }
   ],
   "source": [
    "#: Given an array of integers nums and an integer target, return indices of the two \n",
    "# numbers such that they add up to target.\n",
    "\n",
    "num1 =6 \n",
    "num2 = 5\n",
    "target = num1+num2\n",
    "print(target)"
   ]
  },
  {
   "cell_type": "code",
   "execution_count": null,
   "metadata": {},
   "outputs": [],
   "source": []
  }
 ],
 "metadata": {
  "kernelspec": {
   "display_name": "base",
   "language": "python",
   "name": "python3"
  },
  "language_info": {
   "codemirror_mode": {
    "name": "ipython",
    "version": 3
   },
   "file_extension": ".py",
   "mimetype": "text/x-python",
   "name": "python",
   "nbconvert_exporter": "python",
   "pygments_lexer": "ipython3",
   "version": "3.11.5"
  }
 },
 "nbformat": 4,
 "nbformat_minor": 2
}
